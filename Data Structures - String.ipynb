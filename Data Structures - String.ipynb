{
 "cells": [
  {
   "cell_type": "markdown",
   "metadata": {},
   "source": [
    "Tags:     \n",
    "<code style=\"background:lightskyblue;color:black\">EASY</code> \n",
    "\n",
    "<code style=\"background:sandybrown;color:black\">MEDIUM</code>   \n",
    "\n",
    "<code style=\"background:lightcoral;color:black\">HARD</code>\n",
    "\n",
    "<code style=\"background:pink;color:black\">REVISIT</code>\n"
   ]
  },
  {
   "cell_type": "markdown",
   "metadata": {},
   "source": [
    "# Strings "
   ]
  },
  {
   "cell_type": "markdown",
   "metadata": {},
   "source": [
    "### 20. Valid Parentheses <code style=\"background:lightskyblue;color:black\">EASY</code> \n",
    "\n",
    "**Question**: Given a string s containing just the characters '(', ')', '{', '}', '[' and ']', determine if the input string is valid.   \n",
    "   \n",
    "An input string is valid if:   \n",
    "   \n",
    "Open brackets must be closed by the same type of brackets.   \n",
    "Open brackets must be closed in the correct order.   \n",
    "\n",
    "**Input**: s = \"()[]{}\"   \n",
    "**Output**: true   "
   ]
  },
  {
   "cell_type": "code",
   "execution_count": 2,
   "metadata": {},
   "outputs": [],
   "source": [
    "class Solution:\n",
    "    def isValid(self, s):\n",
    "        stack = [] \n",
    "        # map the closing brackets as keys \n",
    "        mapping = {\")\":\"(\", \"}\": \"{\", \"]\": \"[\"}\n",
    "        \n",
    "        # for every bracket in the s expression \n",
    "        for char in s: \n",
    "            # if the character is a closing bracket \n",
    "            if char in mapping: \n",
    "                # pop the top most element from stack as top_element \n",
    "                top_element = stack.pop() if stack else '#' \n",
    "                if mapping[char] != top_element:\n",
    "                    return False \n",
    "            else: \n",
    "                stack.append(char)\n",
    "            \n",
    "        return not stack "
   ]
  },
  {
   "cell_type": "code",
   "execution_count": 3,
   "metadata": {},
   "outputs": [
    {
     "data": {
      "text/plain": [
       "True"
      ]
     },
     "execution_count": 3,
     "metadata": {},
     "output_type": "execute_result"
    }
   ],
   "source": [
    "s = \"()[]{}\"\n",
    "Solution().isValid(s)"
   ]
  },
  {
   "cell_type": "markdown",
   "metadata": {},
   "source": [
    "**Time**: O(n) because we are simply traversing the given string one char at a time, and push/pop operations on the stack takes O(1)    \n",
    "**Space**: O(n) bc we push all opening brackets onto the stack and in worst case, we will end up pushing all the brackets onto the stack. e.g. (((((((((.   "
   ]
  },
  {
   "cell_type": "code",
   "execution_count": null,
   "metadata": {},
   "outputs": [],
   "source": []
  }
 ],
 "metadata": {
  "kernelspec": {
   "display_name": "Python 3",
   "language": "python",
   "name": "python3"
  },
  "language_info": {
   "codemirror_mode": {
    "name": "ipython",
    "version": 3
   },
   "file_extension": ".py",
   "mimetype": "text/x-python",
   "name": "python",
   "nbconvert_exporter": "python",
   "pygments_lexer": "ipython3",
   "version": "3.7.4"
  },
  "varInspector": {
   "cols": {
    "lenName": 16,
    "lenType": 16,
    "lenVar": 40
   },
   "kernels_config": {
    "python": {
     "delete_cmd_postfix": "",
     "delete_cmd_prefix": "del ",
     "library": "var_list.py",
     "varRefreshCmd": "print(var_dic_list())"
    },
    "r": {
     "delete_cmd_postfix": ") ",
     "delete_cmd_prefix": "rm(",
     "library": "var_list.r",
     "varRefreshCmd": "cat(var_dic_list()) "
    }
   },
   "types_to_exclude": [
    "module",
    "function",
    "builtin_function_or_method",
    "instance",
    "_Feature"
   ],
   "window_display": false
  }
 },
 "nbformat": 4,
 "nbformat_minor": 4
}
