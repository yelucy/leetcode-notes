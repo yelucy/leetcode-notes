{
 "cells": [
  {
   "cell_type": "markdown",
   "metadata": {},
   "source": [
    "Tags:     \n",
    "<code style=\"background:lightskyblue;color:black\">EASY</code> \n",
    "\n",
    "<code style=\"background:sandybrown;color:black\">MEDIUM</code>   \n",
    "\n",
    "<code style=\"background:lightcoral;color:black\">HARD</code>\n",
    "\n",
    "<code style=\"background:pink;color:black\">REVISIT</code>\n"
   ]
  },
  {
   "cell_type": "markdown",
   "metadata": {},
   "source": [
    "# DE 面经"
   ]
  },
  {
   "cell_type": "markdown",
   "metadata": {},
   "source": [
    "### 1. \n",
    "Given a string and a character, task is to make a function which count occurrence of the given character in the string.   \n",
    "   \n",
    "**Input**:   \n",
    "str = \"abccdefgaa\"     \n",
    "c = 'a'     \n",
    "**Output**: 3     \n",
    "'a' appears three times in str.     "
   ]
  },
  {
   "cell_type": "code",
   "execution_count": 1,
   "metadata": {},
   "outputs": [],
   "source": [
    "class Solution:\n",
    "    def countChar(self, s, c):\n",
    "        res = 0 \n",
    "        for i in range(len(s)):\n",
    "            if (s[i] == c):\n",
    "                res += 1 \n",
    "        return res "
   ]
  },
  {
   "cell_type": "code",
   "execution_count": 8,
   "metadata": {},
   "outputs": [
    {
     "data": {
      "text/plain": [
       "3"
      ]
     },
     "execution_count": 8,
     "metadata": {},
     "output_type": "execute_result"
    }
   ],
   "source": [
    "s = 'abccckdababaajakdfj'\n",
    "c = 'b'\n",
    "Solution().countChar(s,c)"
   ]
  },
  {
   "cell_type": "markdown",
   "metadata": {},
   "source": [
    "### 2. \n",
    "Replace None with previous element from List.    \n",
    "\n",
    "**Input**: x = [None, 1, 2, None, None, None]   \n",
    "**Output**: [None, 1, 2, 2, 2, 2]   \n"
   ]
  },
  {
   "cell_type": "code",
   "execution_count": 76,
   "metadata": {},
   "outputs": [],
   "source": [
    "class Solution:\n",
    "    def replaceNone(self, x):\n",
    "        for i in range(1,len(x)):\n",
    "            if(x[i] is None):\n",
    "                x[i] = x[i-1]\n",
    "        return x "
   ]
  },
  {
   "cell_type": "code",
   "execution_count": 77,
   "metadata": {},
   "outputs": [
    {
     "data": {
      "text/plain": [
       "[None, 1, 2, 2, 2, 2]"
      ]
     },
     "execution_count": 77,
     "metadata": {},
     "output_type": "execute_result"
    }
   ],
   "source": [
    "x = [None, 1, 2, None, None, None]\n",
    "Solution().replaceNone(x)"
   ]
  },
  {
   "cell_type": "code",
   "execution_count": null,
   "metadata": {},
   "outputs": [],
   "source": [
    "# Another solution\n",
    "for i,enum in enumerate(x[:-1], 1):\n",
    "    if(x[i] is None):\n",
    "        x[i] = x[i-1]\n",
    "print(x)"
   ]
  },
  {
   "cell_type": "markdown",
   "metadata": {},
   "source": [
    "### 3. Leetcode 896: Monotonic Array <code style=\"background:lightskyblue;color:black\">EASY</code>  \n",
    "\n",
    "An array is monotonic if it is either monotone increasing or monotone decreasing.    \n",
    "    \n",
    "An array nums is monotone increasing if for all i <= j, nums[i] <= nums[j].  An array nums is monotone decreasing if for all i <= j, nums[i] >= nums[j].   \n",
    "   \n",
    "Return true if and only if the given array nums is monotonic.    \n",
    "   \n",
    "**Input**: nums = [1,2,2,3]   \n",
    "**Output**: true   "
   ]
  },
  {
   "cell_type": "code",
   "execution_count": 83,
   "metadata": {},
   "outputs": [],
   "source": [
    "class Solution:\n",
    "    def isMonotonic(self, nums):\n",
    "        if(all(nums[i] <= nums[i+1] for i in range(len(nums)-1))):\n",
    "            return True\n",
    "        elif(all(nums[i] >= nums[i+1] for i in range(len(nums)-1))): \n",
    "            return True \n",
    "        else:\n",
    "            return False"
   ]
  },
  {
   "cell_type": "code",
   "execution_count": 86,
   "metadata": {},
   "outputs": [
    {
     "data": {
      "text/plain": [
       "True"
      ]
     },
     "execution_count": 86,
     "metadata": {},
     "output_type": "execute_result"
    }
   ],
   "source": [
    "nums = [1,2,2,3]\n",
    "Solution().isMonotonic(nums)"
   ]
  },
  {
   "cell_type": "code",
   "execution_count": null,
   "metadata": {},
   "outputs": [],
   "source": []
  },
  {
   "cell_type": "code",
   "execution_count": null,
   "metadata": {},
   "outputs": [],
   "source": []
  },
  {
   "cell_type": "code",
   "execution_count": null,
   "metadata": {},
   "outputs": [],
   "source": []
  },
  {
   "cell_type": "code",
   "execution_count": null,
   "metadata": {},
   "outputs": [],
   "source": []
  }
 ],
 "metadata": {
  "kernelspec": {
   "display_name": "Python 3",
   "language": "python",
   "name": "python3"
  },
  "language_info": {
   "codemirror_mode": {
    "name": "ipython",
    "version": 3
   },
   "file_extension": ".py",
   "mimetype": "text/x-python",
   "name": "python",
   "nbconvert_exporter": "python",
   "pygments_lexer": "ipython3",
   "version": "3.7.4"
  },
  "varInspector": {
   "cols": {
    "lenName": 16,
    "lenType": 16,
    "lenVar": 40
   },
   "kernels_config": {
    "python": {
     "delete_cmd_postfix": "",
     "delete_cmd_prefix": "del ",
     "library": "var_list.py",
     "varRefreshCmd": "print(var_dic_list())"
    },
    "r": {
     "delete_cmd_postfix": ") ",
     "delete_cmd_prefix": "rm(",
     "library": "var_list.r",
     "varRefreshCmd": "cat(var_dic_list()) "
    }
   },
   "types_to_exclude": [
    "module",
    "function",
    "builtin_function_or_method",
    "instance",
    "_Feature"
   ],
   "window_display": false
  }
 },
 "nbformat": 4,
 "nbformat_minor": 4
}
