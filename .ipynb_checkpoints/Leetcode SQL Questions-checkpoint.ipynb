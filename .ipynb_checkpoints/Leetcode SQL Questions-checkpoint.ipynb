{
 "cells": [
  {
   "cell_type": "markdown",
   "metadata": {},
   "source": [
    "Tags:     \n",
    "<code style=\"background:lightskyblue;color:black\">EASY</code> \n",
    "\n",
    "<code style=\"background:sandybrown;color:black\">MEDIUM</code>   \n",
    "\n",
    "<code style=\"background:lightcoral;color:black\">HARD</code>\n",
    "\n",
    "<code style=\"background:pink;color:black\">REVISIT</code>\n"
   ]
  },
  {
   "cell_type": "code",
   "execution_count": 1,
   "metadata": {
    "collapsed": true
   },
   "outputs": [
    {
     "name": "stdout",
     "output_type": "stream",
     "text": [
      "Collecting ipython-sql\n",
      "  Downloading https://files.pythonhosted.org/packages/ab/3d/0d38357c620df31cebb056ca1804027112e5c008f4c2c0e16d879996ad9f/ipython_sql-0.4.0-py3-none-any.whl\n",
      "Requirement already satisfied: prettytable<1 in /opt/miniconda3/lib/python3.7/site-packages (from ipython-sql) (0.7.2)\n",
      "Requirement already satisfied: six in /opt/miniconda3/lib/python3.7/site-packages (from ipython-sql) (1.12.0)\n",
      "Requirement already satisfied: ipython>=1.0 in /opt/miniconda3/lib/python3.7/site-packages (from ipython-sql) (7.12.0)\n",
      "Requirement already satisfied: ipython-genutils>=0.1.0 in /opt/miniconda3/lib/python3.7/site-packages (from ipython-sql) (0.2.0)\n",
      "Requirement already satisfied: sqlalchemy>=0.6.7 in /opt/miniconda3/lib/python3.7/site-packages (from ipython-sql) (1.3.19)\n",
      "Collecting sqlparse\n",
      "\u001b[?25l  Downloading https://files.pythonhosted.org/packages/14/05/6e8eb62ca685b10e34051a80d7ea94b7137369d8c0be5c3b9d9b6e3f5dae/sqlparse-0.4.1-py3-none-any.whl (42kB)\n",
      "\u001b[K     |████████████████████████████████| 51kB 3.7MB/s eta 0:00:011\n",
      "\u001b[?25hRequirement already satisfied: appnope; sys_platform == \"darwin\" in /opt/miniconda3/lib/python3.7/site-packages (from ipython>=1.0->ipython-sql) (0.1.0)\n",
      "Requirement already satisfied: pickleshare in /opt/miniconda3/lib/python3.7/site-packages (from ipython>=1.0->ipython-sql) (0.7.5)\n",
      "Requirement already satisfied: decorator in /opt/miniconda3/lib/python3.7/site-packages (from ipython>=1.0->ipython-sql) (4.4.1)\n",
      "Requirement already satisfied: setuptools>=18.5 in /opt/miniconda3/lib/python3.7/site-packages (from ipython>=1.0->ipython-sql) (41.4.0)\n",
      "Requirement already satisfied: pygments in /opt/miniconda3/lib/python3.7/site-packages (from ipython>=1.0->ipython-sql) (2.5.2)\n",
      "Requirement already satisfied: traitlets>=4.2 in /opt/miniconda3/lib/python3.7/site-packages (from ipython>=1.0->ipython-sql) (4.3.3)\n",
      "Requirement already satisfied: jedi>=0.10 in /opt/miniconda3/lib/python3.7/site-packages (from ipython>=1.0->ipython-sql) (0.16.0)\n",
      "Requirement already satisfied: backcall in /opt/miniconda3/lib/python3.7/site-packages (from ipython>=1.0->ipython-sql) (0.1.0)\n",
      "Requirement already satisfied: pexpect; sys_platform != \"win32\" in /opt/miniconda3/lib/python3.7/site-packages (from ipython>=1.0->ipython-sql) (4.8.0)\n",
      "Requirement already satisfied: prompt-toolkit!=3.0.0,!=3.0.1,<3.1.0,>=2.0.0 in /opt/miniconda3/lib/python3.7/site-packages (from ipython>=1.0->ipython-sql) (3.0.3)\n",
      "Requirement already satisfied: parso>=0.5.2 in /opt/miniconda3/lib/python3.7/site-packages (from jedi>=0.10->ipython>=1.0->ipython-sql) (0.6.1)\n",
      "Requirement already satisfied: ptyprocess>=0.5 in /opt/miniconda3/lib/python3.7/site-packages (from pexpect; sys_platform != \"win32\"->ipython>=1.0->ipython-sql) (0.6.0)\n",
      "Requirement already satisfied: wcwidth in /opt/miniconda3/lib/python3.7/site-packages (from prompt-toolkit!=3.0.0,!=3.0.1,<3.1.0,>=2.0.0->ipython>=1.0->ipython-sql) (0.1.8)\n",
      "Installing collected packages: sqlparse, ipython-sql\n",
      "Successfully installed ipython-sql-0.4.0 sqlparse-0.4.1\n"
     ]
    }
   ],
   "source": [
    "!pip install ipython-sql"
   ]
  },
  {
   "cell_type": "code",
   "execution_count": 1,
   "metadata": {},
   "outputs": [],
   "source": [
    "%load_ext sql"
   ]
  },
  {
   "cell_type": "code",
   "execution_count": 2,
   "metadata": {},
   "outputs": [],
   "source": [
    "%sql sqlite://"
   ]
  },
  {
   "cell_type": "markdown",
   "metadata": {},
   "source": [
    "# SQL"
   ]
  },
  {
   "cell_type": "markdown",
   "metadata": {},
   "source": [
    "### 1270. All People Report to the Given Manager <code style=\"background:sandybrown;color:black\">MEDIUM</code>  \n",
    "\n",
    "Question: "
   ]
  },
  {
   "cell_type": "code",
   "execution_count": 3,
   "metadata": {},
   "outputs": [
    {
     "name": "stdout",
     "output_type": "stream",
     "text": [
      " * sqlite://\n",
      "Done.\n",
      "Done.\n",
      "1 rows affected.\n",
      "1 rows affected.\n",
      "1 rows affected.\n",
      "1 rows affected.\n",
      "1 rows affected.\n",
      "1 rows affected.\n",
      "1 rows affected.\n",
      "1 rows affected.\n"
     ]
    },
    {
     "data": {
      "text/plain": [
       "[]"
      ]
     },
     "execution_count": 3,
     "metadata": {},
     "output_type": "execute_result"
    }
   ],
   "source": [
    "# SQL schema \n",
    "%%sql\n",
    "drop table if exists Employees;\n",
    "create table Employees (employee_id int, employee_name varchar(30), manager_id int);\n",
    "insert into Employees (employee_id, employee_name, manager_id) values ('1', 'Boss', '1');\n",
    "insert into Employees (employee_id, employee_name, manager_id) values ('3', 'Alice', '3');\n",
    "insert into Employees (employee_id, employee_name, manager_id) values ('2', 'Bob', '1');\n",
    "insert into Employees (employee_id, employee_name, manager_id) values ('4', 'Daniel', '2');\n",
    "insert into Employees (employee_id, employee_name, manager_id) values ('7', 'Luis', '4');\n",
    "insert into Employees (employee_id, employee_name, manager_id) values ('8', 'John', '3');\n",
    "insert into Employees (employee_id, employee_name, manager_id) values ('9', 'Angela', '8');\n",
    "insert into Employees (employee_id, employee_name, manager_id) values ('77', 'Robert', '1');"
   ]
  },
  {
   "cell_type": "code",
   "execution_count": 4,
   "metadata": {},
   "outputs": [
    {
     "name": "stdout",
     "output_type": "stream",
     "text": [
      " * sqlite://\n",
      "Done.\n"
     ]
    },
    {
     "data": {
      "text/html": [
       "<table>\n",
       "    <tr>\n",
       "        <th>employee_id</th>\n",
       "        <th>employee_name</th>\n",
       "        <th>manager_id</th>\n",
       "    </tr>\n",
       "    <tr>\n",
       "        <td>1</td>\n",
       "        <td>Boss</td>\n",
       "        <td>1</td>\n",
       "    </tr>\n",
       "    <tr>\n",
       "        <td>3</td>\n",
       "        <td>Alice</td>\n",
       "        <td>3</td>\n",
       "    </tr>\n",
       "    <tr>\n",
       "        <td>2</td>\n",
       "        <td>Bob</td>\n",
       "        <td>1</td>\n",
       "    </tr>\n",
       "    <tr>\n",
       "        <td>4</td>\n",
       "        <td>Daniel</td>\n",
       "        <td>2</td>\n",
       "    </tr>\n",
       "    <tr>\n",
       "        <td>7</td>\n",
       "        <td>Luis</td>\n",
       "        <td>4</td>\n",
       "    </tr>\n",
       "    <tr>\n",
       "        <td>8</td>\n",
       "        <td>John</td>\n",
       "        <td>3</td>\n",
       "    </tr>\n",
       "    <tr>\n",
       "        <td>9</td>\n",
       "        <td>Angela</td>\n",
       "        <td>8</td>\n",
       "    </tr>\n",
       "    <tr>\n",
       "        <td>77</td>\n",
       "        <td>Robert</td>\n",
       "        <td>1</td>\n",
       "    </tr>\n",
       "</table>"
      ],
      "text/plain": [
       "[(1, 'Boss', 1),\n",
       " (3, 'Alice', 3),\n",
       " (2, 'Bob', 1),\n",
       " (4, 'Daniel', 2),\n",
       " (7, 'Luis', 4),\n",
       " (8, 'John', 3),\n",
       " (9, 'Angela', 8),\n",
       " (77, 'Robert', 1)]"
      ]
     },
     "execution_count": 4,
     "metadata": {},
     "output_type": "execute_result"
    }
   ],
   "source": [
    "%%sql\n",
    "select * from Employees"
   ]
  },
  {
   "cell_type": "code",
   "execution_count": null,
   "metadata": {},
   "outputs": [],
   "source": []
  },
  {
   "cell_type": "code",
   "execution_count": null,
   "metadata": {},
   "outputs": [],
   "source": []
  }
 ],
 "metadata": {
  "kernelspec": {
   "display_name": "Python 3",
   "language": "python",
   "name": "python3"
  },
  "language_info": {
   "codemirror_mode": {
    "name": "ipython",
    "version": 3
   },
   "file_extension": ".py",
   "mimetype": "text/x-python",
   "name": "python",
   "nbconvert_exporter": "python",
   "pygments_lexer": "ipython3",
   "version": "3.7.4"
  },
  "varInspector": {
   "cols": {
    "lenName": 16,
    "lenType": 16,
    "lenVar": 40
   },
   "kernels_config": {
    "python": {
     "delete_cmd_postfix": "",
     "delete_cmd_prefix": "del ",
     "library": "var_list.py",
     "varRefreshCmd": "print(var_dic_list())"
    },
    "r": {
     "delete_cmd_postfix": ") ",
     "delete_cmd_prefix": "rm(",
     "library": "var_list.r",
     "varRefreshCmd": "cat(var_dic_list()) "
    }
   },
   "types_to_exclude": [
    "module",
    "function",
    "builtin_function_or_method",
    "instance",
    "_Feature"
   ],
   "window_display": false
  }
 },
 "nbformat": 4,
 "nbformat_minor": 4
}
