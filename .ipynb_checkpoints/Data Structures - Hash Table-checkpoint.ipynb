{
 "cells": [
  {
   "cell_type": "markdown",
   "metadata": {},
   "source": [
    "Tags:     \n",
    "<code style=\"background:lightskyblue;color:black\">EASY</code> \n",
    "\n",
    "<code style=\"background:sandybrown;color:black\">MEDIUM</code>   \n",
    "\n",
    "<code style=\"background:lightcoral;color:black\">HARD</code>\n",
    "\n",
    "<code style=\"background:pink;color:black\">REVISIT</code>\n"
   ]
  },
  {
   "cell_type": "markdown",
   "metadata": {},
   "source": [
    "# Hash Table"
   ]
  },
  {
   "cell_type": "markdown",
   "metadata": {},
   "source": [
    "### 953. Verifying an Alien Dictionary <code style=\"background:lightskyblue;color:black\">EASY</code> <code style=\"background:pink;color:black\">REVISIT</code> \n",
    "   \n",
    "**Question**: \n",
    "In an alien language, surprisingly they also use english lowercase letters, but possibly in a different order. The order of the alphabet is some permutation of lowercase letters.   \n",
    "   \n",
    "Given a sequence of words written in the alien language, and the order of the alphabet, return true if and only if the given words are sorted lexicographicaly in this alien language.   \n",
    "\n",
    "**Input**: words = [\"hello\",\"leetcode\"], order = \"hlabcdefgijkmnopqrstuvwxyz\"   \n",
    "**Output**: true   \n",
    "**Explanation**: As 'h' comes before 'l' in this language, then the sequence is sorted.   \n",
    "   \n",
    "**Input**: words = [\"word\",\"world\",\"row\"], order = \"worldabcefghijkmnpqstuvxyz\"     \n",
    "**Output**: false   \n",
    "**Explanation**: As 'd' comes after 'l' in this language, then words[0] > words[1], hence the sequence is unsorted.   \n"
   ]
  },
  {
   "cell_type": "code",
   "execution_count": 6,
   "metadata": {},
   "outputs": [],
   "source": [
    "class Solution:\n",
    "    def isAlienSorted(self, words, order):\n",
    "        order_map = {}\n",
    "        for index, val in enumerate(order):\n",
    "            order_map[val] = index \n",
    "        \n",
    "        # if first word is longer than second word \n",
    "        for i in range(len(words)-1):\n",
    "            \n",
    "            for j in range(len(words[i])):\n",
    "                # if first word is longer than the second word, then it's not in correct order\n",
    "                if j >= len(words[i+1]):\n",
    "                    return False \n",
    "                \n",
    "                # if each letter of first word DOES NOT match each respective letter of the second word\n",
    "                if words[i][j] != words[i+1][j]:\n",
    "                    # using the dict, if each letter of first word is larger than the respective letter of the second\n",
    "                    # then the list is not in correct order -> return False \n",
    "                    if order_map[words[i][j]] > order_map[words[i+1][j]]:\n",
    "                        return False\n",
    "                    break\n",
    "        return True"
   ]
  },
  {
   "cell_type": "code",
   "execution_count": 7,
   "metadata": {},
   "outputs": [
    {
     "data": {
      "text/plain": [
       "True"
      ]
     },
     "execution_count": 7,
     "metadata": {},
     "output_type": "execute_result"
    }
   ],
   "source": [
    "words = [\"hello\",\"leetcode\"]\n",
    "order = \"hlabcdefgijkmnopqrstuvwxyz\"\n",
    "\n",
    "Solution().isAlienSorted(words, order)"
   ]
  },
  {
   "cell_type": "code",
   "execution_count": null,
   "metadata": {},
   "outputs": [],
   "source": []
  },
  {
   "cell_type": "code",
   "execution_count": null,
   "metadata": {},
   "outputs": [],
   "source": []
  },
  {
   "cell_type": "code",
   "execution_count": null,
   "metadata": {},
   "outputs": [],
   "source": []
  },
  {
   "cell_type": "code",
   "execution_count": null,
   "metadata": {},
   "outputs": [],
   "source": []
  }
 ],
 "metadata": {
  "kernelspec": {
   "display_name": "Python 3",
   "language": "python",
   "name": "python3"
  },
  "language_info": {
   "codemirror_mode": {
    "name": "ipython",
    "version": 3
   },
   "file_extension": ".py",
   "mimetype": "text/x-python",
   "name": "python",
   "nbconvert_exporter": "python",
   "pygments_lexer": "ipython3",
   "version": "3.7.4"
  },
  "varInspector": {
   "cols": {
    "lenName": 16,
    "lenType": 16,
    "lenVar": 40
   },
   "kernels_config": {
    "python": {
     "delete_cmd_postfix": "",
     "delete_cmd_prefix": "del ",
     "library": "var_list.py",
     "varRefreshCmd": "print(var_dic_list())"
    },
    "r": {
     "delete_cmd_postfix": ") ",
     "delete_cmd_prefix": "rm(",
     "library": "var_list.r",
     "varRefreshCmd": "cat(var_dic_list()) "
    }
   },
   "types_to_exclude": [
    "module",
    "function",
    "builtin_function_or_method",
    "instance",
    "_Feature"
   ],
   "window_display": false
  }
 },
 "nbformat": 4,
 "nbformat_minor": 4
}
