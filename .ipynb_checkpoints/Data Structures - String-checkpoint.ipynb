{
 "cells": [
  {
   "cell_type": "markdown",
   "metadata": {},
   "source": [
    "Tags:     \n",
    "<code style=\"background:lightskyblue;color:black\">EASY</code> \n",
    "\n",
    "<code style=\"background:sandybrown;color:black\">MEDIUM</code>   \n",
    "\n",
    "<code style=\"background:lightcoral;color:black\">HARD</code>\n",
    "\n",
    "<code style=\"background:pink;color:black\">REVISIT</code>\n"
   ]
  },
  {
   "cell_type": "markdown",
   "metadata": {},
   "source": [
    "# Strings "
   ]
  },
  {
   "cell_type": "markdown",
   "metadata": {},
   "source": [
    "### 20. Valid Parentheses <code style=\"background:lightskyblue;color:black\">EASY</code> \n",
    "\n",
    "**Question**: Given a string s containing just the characters '(', ')', '{', '}', '[' and ']', determine if the input string is valid.   \n",
    "   \n",
    "An input string is valid if:   \n",
    "   \n",
    "Open brackets must be closed by the same type of brackets.   \n",
    "Open brackets must be closed in the correct order.   \n",
    "\n",
    "**Input**: s = \"()[]{}\"   \n",
    "**Output**: true   "
   ]
  },
  {
   "cell_type": "code",
   "execution_count": 2,
   "metadata": {},
   "outputs": [],
   "source": [
    "class Solution:\n",
    "    def isValid(self, s):\n",
    "        stack = [] \n",
    "        # map the closing brackets as keys \n",
    "        mapping = {\")\":\"(\", \"}\": \"{\", \"]\": \"[\"}\n",
    "        \n",
    "        # for every bracket in the s expression \n",
    "        for char in s: \n",
    "            # if the character is a closing bracket \n",
    "            if char in mapping: \n",
    "                # pop the top most element from stack as top_element \n",
    "                top_element = stack.pop() if stack else '#' \n",
    "                if mapping[char] != top_element:\n",
    "                    return False \n",
    "            else: \n",
    "                stack.append(char)\n",
    "            \n",
    "        return not stack "
   ]
  },
  {
   "cell_type": "code",
   "execution_count": 3,
   "metadata": {},
   "outputs": [
    {
     "data": {
      "text/plain": [
       "True"
      ]
     },
     "execution_count": 3,
     "metadata": {},
     "output_type": "execute_result"
    }
   ],
   "source": [
    "s = \"()[]{}\"\n",
    "Solution().isValid(s)"
   ]
  },
  {
   "cell_type": "markdown",
   "metadata": {},
   "source": [
    "**Time**: O(n) because we are simply traversing the given string one char at a time, and push/pop operations on the stack takes O(1)    \n",
    "**Space**: O(n) bc we push all opening brackets onto the stack and in worst case, we will end up pushing all the brackets onto the stack. e.g. (((((((((.   "
   ]
  },
  {
   "cell_type": "markdown",
   "metadata": {},
   "source": [
    "### 125. Valid Palindrome <code style=\"background:lightskyblue;color:black\">EASY</code>\n",
    "   \n",
    "**Question**: Given a string s, determine if it is a palindrome, considering only alphanumeric characters and ignoring cases.  \n",
    "\n",
    "**Input**: s = \"A man, a plan, a canal: Panama\"   \n",
    "**Output**: true   \n"
   ]
  },
  {
   "cell_type": "code",
   "execution_count": 14,
   "metadata": {},
   "outputs": [],
   "source": [
    "class Solution:\n",
    "    def validPalindrome(self, s):\n",
    "        s2 = ''.join(i for i in s if i.isalnum()).lower()\n",
    "        return s2 == s2[::-1]"
   ]
  },
  {
   "cell_type": "code",
   "execution_count": 15,
   "metadata": {},
   "outputs": [
    {
     "data": {
      "text/plain": [
       "True"
      ]
     },
     "execution_count": 15,
     "metadata": {},
     "output_type": "execute_result"
    }
   ],
   "source": [
    "s = \"A man, a plan, a canal: Panama\" \n",
    "Solution().validPalindrome(s)"
   ]
  },
  {
   "cell_type": "markdown",
   "metadata": {},
   "source": [
    "### 415. Add Strings <code style=\"background:lightskyblue;color:black\">EASY</code>\n",
    "\n",
    "**Question**: Given two non-negative integers, num1 and num2 represented as string, return the sum of num1 and num2 as a string.\n",
    "\n",
    "You must solve the problem without using any built-in library for handling large integers (such as BigInteger). You must also not convert the inputs to integers directly. \n",
    "    \n",
    "**Input**: num1 = \"11\", num2 = \"123\"   \n",
    "**Output**: \"134\"   \n",
    "   "
   ]
  },
  {
   "cell_type": "code",
   "execution_count": 3,
   "metadata": {},
   "outputs": [],
   "source": [
    "class Solution:\n",
    "    def addStrings(self, num1, num2):\n",
    "        res = [] \n",
    "        \n",
    "        p1 = len(num1) - 1\n",
    "        p2 = len(num2) - 1\n",
    "        \n",
    "        carryover = 0 \n",
    "        \n",
    "        while p1 >= 0 or p2 >= 0: \n",
    "            x1 = ord(num1[p1]) - ord('0') if p1 >= 0 else 0\n",
    "            x2 = ord(num2[p2]) - ord('0') if p2 >= 0 else 0\n",
    "            \n",
    "            value = (x1 + x2 + carryover) % 10 \n",
    "            \n",
    "            carryover = (x1 + x2 + carryover) // 10 \n",
    "            \n",
    "            p1 -= 1\n",
    "            p2 -= 1 \n",
    "            \n",
    "            res.append(value)\n",
    "            \n",
    "        if carryover:\n",
    "            res.append(carryover)\n",
    "            \n",
    "        return ''.join(str(x) for x in res[::-1])"
   ]
  },
  {
   "cell_type": "code",
   "execution_count": 6,
   "metadata": {},
   "outputs": [
    {
     "data": {
      "text/plain": [
       "'1244'"
      ]
     },
     "execution_count": 6,
     "metadata": {},
     "output_type": "execute_result"
    }
   ],
   "source": [
    "num1 = '1121' \n",
    "num2 = '123'\n",
    "Solution().addStrings(num1, num2)"
   ]
  },
  {
   "cell_type": "markdown",
   "metadata": {},
   "source": [
    "### 680. Valid Palindrome II <code style=\"background:lightskyblue;color:black\">EASY</code>  \n",
    "\n",
    "**Question**: Given a string s, return true if the s can be palindrome after deleting at most one character from it.   \n",
    "   \n",
    "**Input**: s = \"aba\"   \n",
    "**Output**: true   \n",
    "   \n",
    "**Input**: s = \"abcd\"   \n",
    "**Output**: false "
   ]
  },
  {
   "cell_type": "code",
   "execution_count": 7,
   "metadata": {},
   "outputs": [],
   "source": [
    "class Solution:\n",
    "    def validPalindrome2(self, s):\n",
    "        l, r = 0, len(s) - 1 \n",
    "        \n",
    "        while l < r:\n",
    "            # if they are the same char\n",
    "            if s[l] == s[r]: \n",
    "                # shorten the string by two chars (left and right chars)\n",
    "                l += 1 \n",
    "                r -= 1\n",
    "            else:\n",
    "                # first chunk is deleting the right char (stops at r-1)\n",
    "                # second chunk is deleting the left char and checking whether the string is palindrome\n",
    "                return s[l:r] == s[l:r][::-1] or s[l+1:r+1] == s[l+1:r+1][::-1]\n",
    "        return True"
   ]
  },
  {
   "cell_type": "code",
   "execution_count": 12,
   "metadata": {},
   "outputs": [
    {
     "data": {
      "text/plain": [
       "True"
      ]
     },
     "execution_count": 12,
     "metadata": {},
     "output_type": "execute_result"
    }
   ],
   "source": [
    "s = \"abba\"\n",
    "Solution().validPalindrome2(s)"
   ]
  },
  {
   "cell_type": "markdown",
   "metadata": {},
   "source": [
    "**Time**: O(n). Two loops, but the second loop will be called at most once.   \n",
    "**Space**: O(n)  "
   ]
  },
  {
   "cell_type": "code",
   "execution_count": null,
   "metadata": {},
   "outputs": [],
   "source": []
  },
  {
   "cell_type": "code",
   "execution_count": null,
   "metadata": {},
   "outputs": [],
   "source": []
  },
  {
   "cell_type": "code",
   "execution_count": null,
   "metadata": {},
   "outputs": [],
   "source": []
  },
  {
   "cell_type": "code",
   "execution_count": null,
   "metadata": {},
   "outputs": [],
   "source": []
  },
  {
   "cell_type": "code",
   "execution_count": null,
   "metadata": {},
   "outputs": [],
   "source": []
  },
  {
   "cell_type": "code",
   "execution_count": null,
   "metadata": {},
   "outputs": [],
   "source": []
  },
  {
   "cell_type": "code",
   "execution_count": null,
   "metadata": {},
   "outputs": [],
   "source": []
  },
  {
   "cell_type": "code",
   "execution_count": null,
   "metadata": {},
   "outputs": [],
   "source": []
  }
 ],
 "metadata": {
  "kernelspec": {
   "display_name": "Python 3",
   "language": "python",
   "name": "python3"
  },
  "language_info": {
   "codemirror_mode": {
    "name": "ipython",
    "version": 3
   },
   "file_extension": ".py",
   "mimetype": "text/x-python",
   "name": "python",
   "nbconvert_exporter": "python",
   "pygments_lexer": "ipython3",
   "version": "3.7.4"
  },
  "varInspector": {
   "cols": {
    "lenName": 16,
    "lenType": 16,
    "lenVar": 40
   },
   "kernels_config": {
    "python": {
     "delete_cmd_postfix": "",
     "delete_cmd_prefix": "del ",
     "library": "var_list.py",
     "varRefreshCmd": "print(var_dic_list())"
    },
    "r": {
     "delete_cmd_postfix": ") ",
     "delete_cmd_prefix": "rm(",
     "library": "var_list.r",
     "varRefreshCmd": "cat(var_dic_list()) "
    }
   },
   "types_to_exclude": [
    "module",
    "function",
    "builtin_function_or_method",
    "instance",
    "_Feature"
   ],
   "window_display": false
  }
 },
 "nbformat": 4,
 "nbformat_minor": 4
}
