{
 "cells": [
  {
   "cell_type": "markdown",
   "metadata": {},
   "source": [
    "Tags:     \n",
    "<code style=\"background:lightskyblue;color:black\">EASY</code> \n",
    "\n",
    "<code style=\"background:sandybrown;color:black\">MEDIUM</code>   \n",
    "\n",
    "<code style=\"background:lightcoral;color:black\">HARD</code>\n",
    "\n",
    "<code style=\"background:pink;color:black\">REVISIT</code>\n"
   ]
  },
  {
   "cell_type": "code",
   "execution_count": 1,
   "metadata": {
    "collapsed": true
   },
   "outputs": [
    {
     "name": "stdout",
     "output_type": "stream",
     "text": [
      "Collecting ipython-sql\n",
      "  Downloading https://files.pythonhosted.org/packages/ab/3d/0d38357c620df31cebb056ca1804027112e5c008f4c2c0e16d879996ad9f/ipython_sql-0.4.0-py3-none-any.whl\n",
      "Requirement already satisfied: prettytable<1 in /opt/miniconda3/lib/python3.7/site-packages (from ipython-sql) (0.7.2)\n",
      "Requirement already satisfied: six in /opt/miniconda3/lib/python3.7/site-packages (from ipython-sql) (1.12.0)\n",
      "Requirement already satisfied: ipython>=1.0 in /opt/miniconda3/lib/python3.7/site-packages (from ipython-sql) (7.12.0)\n",
      "Requirement already satisfied: ipython-genutils>=0.1.0 in /opt/miniconda3/lib/python3.7/site-packages (from ipython-sql) (0.2.0)\n",
      "Requirement already satisfied: sqlalchemy>=0.6.7 in /opt/miniconda3/lib/python3.7/site-packages (from ipython-sql) (1.3.19)\n",
      "Collecting sqlparse\n",
      "\u001b[?25l  Downloading https://files.pythonhosted.org/packages/14/05/6e8eb62ca685b10e34051a80d7ea94b7137369d8c0be5c3b9d9b6e3f5dae/sqlparse-0.4.1-py3-none-any.whl (42kB)\n",
      "\u001b[K     |████████████████████████████████| 51kB 3.7MB/s eta 0:00:011\n",
      "\u001b[?25hRequirement already satisfied: appnope; sys_platform == \"darwin\" in /opt/miniconda3/lib/python3.7/site-packages (from ipython>=1.0->ipython-sql) (0.1.0)\n",
      "Requirement already satisfied: pickleshare in /opt/miniconda3/lib/python3.7/site-packages (from ipython>=1.0->ipython-sql) (0.7.5)\n",
      "Requirement already satisfied: decorator in /opt/miniconda3/lib/python3.7/site-packages (from ipython>=1.0->ipython-sql) (4.4.1)\n",
      "Requirement already satisfied: setuptools>=18.5 in /opt/miniconda3/lib/python3.7/site-packages (from ipython>=1.0->ipython-sql) (41.4.0)\n",
      "Requirement already satisfied: pygments in /opt/miniconda3/lib/python3.7/site-packages (from ipython>=1.0->ipython-sql) (2.5.2)\n",
      "Requirement already satisfied: traitlets>=4.2 in /opt/miniconda3/lib/python3.7/site-packages (from ipython>=1.0->ipython-sql) (4.3.3)\n",
      "Requirement already satisfied: jedi>=0.10 in /opt/miniconda3/lib/python3.7/site-packages (from ipython>=1.0->ipython-sql) (0.16.0)\n",
      "Requirement already satisfied: backcall in /opt/miniconda3/lib/python3.7/site-packages (from ipython>=1.0->ipython-sql) (0.1.0)\n",
      "Requirement already satisfied: pexpect; sys_platform != \"win32\" in /opt/miniconda3/lib/python3.7/site-packages (from ipython>=1.0->ipython-sql) (4.8.0)\n",
      "Requirement already satisfied: prompt-toolkit!=3.0.0,!=3.0.1,<3.1.0,>=2.0.0 in /opt/miniconda3/lib/python3.7/site-packages (from ipython>=1.0->ipython-sql) (3.0.3)\n",
      "Requirement already satisfied: parso>=0.5.2 in /opt/miniconda3/lib/python3.7/site-packages (from jedi>=0.10->ipython>=1.0->ipython-sql) (0.6.1)\n",
      "Requirement already satisfied: ptyprocess>=0.5 in /opt/miniconda3/lib/python3.7/site-packages (from pexpect; sys_platform != \"win32\"->ipython>=1.0->ipython-sql) (0.6.0)\n",
      "Requirement already satisfied: wcwidth in /opt/miniconda3/lib/python3.7/site-packages (from prompt-toolkit!=3.0.0,!=3.0.1,<3.1.0,>=2.0.0->ipython>=1.0->ipython-sql) (0.1.8)\n",
      "Installing collected packages: sqlparse, ipython-sql\n",
      "Successfully installed ipython-sql-0.4.0 sqlparse-0.4.1\n"
     ]
    }
   ],
   "source": [
    "!pip install ipython-sql"
   ]
  },
  {
   "cell_type": "code",
   "execution_count": 1,
   "metadata": {},
   "outputs": [],
   "source": [
    "%load_ext sql"
   ]
  },
  {
   "cell_type": "code",
   "execution_count": 2,
   "metadata": {},
   "outputs": [],
   "source": [
    "%sql sqlite://"
   ]
  },
  {
   "cell_type": "markdown",
   "metadata": {},
   "source": [
    "# SQL"
   ]
  },
  {
   "cell_type": "markdown",
   "metadata": {},
   "source": [
    "### 1270. All People Report to the Given Manager <code style=\"background:sandybrown;color:black\">MEDIUM</code>  \n",
    "\n",
    "employee_id is the primary key for this table.   \n",
    "Each row of this table indicates that the employee with ID employee_id and name employee_name reports his work to his/her direct manager with manager_id   \n",
    "The head of the company is the employee with employee_id = 1.    \n",
    "   \n",
    "**Question**:   \n",
    "Write an SQL query to find employee_id of all employees that directly or indirectly report their work to the head of the company.\n",
    "   \n",
    "The indirect relation between managers will not exceed 3 managers as the company is small.\n",
    "   \n",
    "Return result table in any order without duplicates.    \n",
    "\n",
    "**Example**:"
   ]
  },
  {
   "cell_type": "code",
   "execution_count": 5,
   "metadata": {},
   "outputs": [],
   "source": [
    "# Employees table:\n",
    "# +-------------+---------------+------------+\n",
    "# | employee_id | employee_name | manager_id |\n",
    "# +-------------+---------------+------------+\n",
    "# | 1           | Boss          | 1          |\n",
    "# | 3           | Alice         | 3          |\n",
    "# | 2           | Bob           | 1          |\n",
    "# | 4           | Daniel        | 2          |\n",
    "# | 7           | Luis          | 4          |\n",
    "# | 8           | Jhon          | 3          |\n",
    "# | 9           | Angela        | 8          |\n",
    "# | 77          | Robert        | 1          |\n",
    "# +-------------+---------------+------------+\n",
    "\n",
    "# Result table:\n",
    "# +-------------+\n",
    "# | employee_id |\n",
    "# +-------------+\n",
    "# | 2           |\n",
    "# | 77          |\n",
    "# | 4           |\n",
    "# | 7           |\n",
    "# +-------------+"
   ]
  },
  {
   "cell_type": "code",
   "execution_count": 3,
   "metadata": {},
   "outputs": [
    {
     "name": "stdout",
     "output_type": "stream",
     "text": [
      " * sqlite://\n",
      "Done.\n",
      "Done.\n",
      "1 rows affected.\n",
      "1 rows affected.\n",
      "1 rows affected.\n",
      "1 rows affected.\n",
      "1 rows affected.\n",
      "1 rows affected.\n",
      "1 rows affected.\n",
      "1 rows affected.\n"
     ]
    },
    {
     "data": {
      "text/plain": [
       "[]"
      ]
     },
     "execution_count": 3,
     "metadata": {},
     "output_type": "execute_result"
    }
   ],
   "source": [
    "# SQL schema \n",
    "%%sql\n",
    "drop table if exists Employees;\n",
    "create table Employees (employee_id int, employee_name varchar(30), manager_id int);\n",
    "insert into Employees (employee_id, employee_name, manager_id) values ('1', 'Boss', '1');\n",
    "insert into Employees (employee_id, employee_name, manager_id) values ('3', 'Alice', '3');\n",
    "insert into Employees (employee_id, employee_name, manager_id) values ('2', 'Bob', '1');\n",
    "insert into Employees (employee_id, employee_name, manager_id) values ('4', 'Daniel', '2');\n",
    "insert into Employees (employee_id, employee_name, manager_id) values ('7', 'Luis', '4');\n",
    "insert into Employees (employee_id, employee_name, manager_id) values ('8', 'John', '3');\n",
    "insert into Employees (employee_id, employee_name, manager_id) values ('9', 'Angela', '8');\n",
    "insert into Employees (employee_id, employee_name, manager_id) values ('77', 'Robert', '1');"
   ]
  },
  {
   "cell_type": "code",
   "execution_count": 6,
   "metadata": {},
   "outputs": [
    {
     "name": "stdout",
     "output_type": "stream",
     "text": [
      " * sqlite://\n",
      "Done.\n"
     ]
    },
    {
     "data": {
      "text/html": [
       "<table>\n",
       "    <tr>\n",
       "        <th>employee_id</th>\n",
       "        <th>employee_name</th>\n",
       "        <th>manager_id</th>\n",
       "    </tr>\n",
       "    <tr>\n",
       "        <td>1</td>\n",
       "        <td>Boss</td>\n",
       "        <td>1</td>\n",
       "    </tr>\n",
       "    <tr>\n",
       "        <td>3</td>\n",
       "        <td>Alice</td>\n",
       "        <td>3</td>\n",
       "    </tr>\n",
       "    <tr>\n",
       "        <td>2</td>\n",
       "        <td>Bob</td>\n",
       "        <td>1</td>\n",
       "    </tr>\n",
       "    <tr>\n",
       "        <td>4</td>\n",
       "        <td>Daniel</td>\n",
       "        <td>2</td>\n",
       "    </tr>\n",
       "    <tr>\n",
       "        <td>7</td>\n",
       "        <td>Luis</td>\n",
       "        <td>4</td>\n",
       "    </tr>\n",
       "    <tr>\n",
       "        <td>8</td>\n",
       "        <td>John</td>\n",
       "        <td>3</td>\n",
       "    </tr>\n",
       "    <tr>\n",
       "        <td>9</td>\n",
       "        <td>Angela</td>\n",
       "        <td>8</td>\n",
       "    </tr>\n",
       "    <tr>\n",
       "        <td>77</td>\n",
       "        <td>Robert</td>\n",
       "        <td>1</td>\n",
       "    </tr>\n",
       "</table>"
      ],
      "text/plain": [
       "[(1, 'Boss', 1),\n",
       " (3, 'Alice', 3),\n",
       " (2, 'Bob', 1),\n",
       " (4, 'Daniel', 2),\n",
       " (7, 'Luis', 4),\n",
       " (8, 'John', 3),\n",
       " (9, 'Angela', 8),\n",
       " (77, 'Robert', 1)]"
      ]
     },
     "execution_count": 6,
     "metadata": {},
     "output_type": "execute_result"
    }
   ],
   "source": [
    "%%sql\n",
    "select * from employees"
   ]
  },
  {
   "cell_type": "code",
   "execution_count": 11,
   "metadata": {},
   "outputs": [
    {
     "name": "stdout",
     "output_type": "stream",
     "text": [
      " * sqlite://\n",
      "Done.\n"
     ]
    },
    {
     "data": {
      "text/html": [
       "<table>\n",
       "    <tr>\n",
       "        <th>employee_id</th>\n",
       "        <th>employee_name</th>\n",
       "        <th>manager_id</th>\n",
       "        <th>employee_id_1</th>\n",
       "        <th>employee_name_1</th>\n",
       "        <th>manager_id_1</th>\n",
       "        <th>employee_id_2</th>\n",
       "        <th>employee_name_2</th>\n",
       "        <th>manager_id_2</th>\n",
       "    </tr>\n",
       "    <tr>\n",
       "        <td>2</td>\n",
       "        <td>Bob</td>\n",
       "        <td>1</td>\n",
       "        <td>1</td>\n",
       "        <td>Boss</td>\n",
       "        <td>1</td>\n",
       "        <td>1</td>\n",
       "        <td>Boss</td>\n",
       "        <td>1</td>\n",
       "    </tr>\n",
       "    <tr>\n",
       "        <td>77</td>\n",
       "        <td>Robert</td>\n",
       "        <td>1</td>\n",
       "        <td>1</td>\n",
       "        <td>Boss</td>\n",
       "        <td>1</td>\n",
       "        <td>1</td>\n",
       "        <td>Boss</td>\n",
       "        <td>1</td>\n",
       "    </tr>\n",
       "    <tr>\n",
       "        <td>4</td>\n",
       "        <td>Daniel</td>\n",
       "        <td>2</td>\n",
       "        <td>2</td>\n",
       "        <td>Bob</td>\n",
       "        <td>1</td>\n",
       "        <td>1</td>\n",
       "        <td>Boss</td>\n",
       "        <td>1</td>\n",
       "    </tr>\n",
       "    <tr>\n",
       "        <td>7</td>\n",
       "        <td>Luis</td>\n",
       "        <td>4</td>\n",
       "        <td>4</td>\n",
       "        <td>Daniel</td>\n",
       "        <td>2</td>\n",
       "        <td>2</td>\n",
       "        <td>Bob</td>\n",
       "        <td>1</td>\n",
       "    </tr>\n",
       "</table>"
      ],
      "text/plain": [
       "[(2, 'Bob', 1, 1, 'Boss', 1, 1, 'Boss', 1),\n",
       " (77, 'Robert', 1, 1, 'Boss', 1, 1, 'Boss', 1),\n",
       " (4, 'Daniel', 2, 2, 'Bob', 1, 1, 'Boss', 1),\n",
       " (7, 'Luis', 4, 4, 'Daniel', 2, 2, 'Bob', 1)]"
      ]
     },
     "execution_count": 11,
     "metadata": {},
     "output_type": "execute_result"
    }
   ],
   "source": [
    "%%sql \n",
    "select * from \n",
    "Employees a join Employees b \n",
    "on a.manager_id = b.employee_id \n",
    "join Employees c \n",
    "on b.manager_id = c.employee_id \n",
    "where c.manager_id = 1 and a.employee_id != 1"
   ]
  },
  {
   "cell_type": "code",
   "execution_count": null,
   "metadata": {},
   "outputs": [],
   "source": []
  },
  {
   "cell_type": "code",
   "execution_count": 15,
   "metadata": {},
   "outputs": [
    {
     "name": "stdout",
     "output_type": "stream",
     "text": [
      " * sqlite://\n",
      "Done.\n",
      "Done.\n",
      "1 rows affected.\n",
      "1 rows affected.\n",
      "Done.\n"
     ]
    },
    {
     "data": {
      "text/html": [
       "<table>\n",
       "    <tr>\n",
       "        <th>x</th>\n",
       "        <th>y</th>\n",
       "        <th>z</th>\n",
       "    </tr>\n",
       "    <tr>\n",
       "        <td>13</td>\n",
       "        <td>15</td>\n",
       "        <td>30</td>\n",
       "    </tr>\n",
       "    <tr>\n",
       "        <td>10</td>\n",
       "        <td>20</td>\n",
       "        <td>15</td>\n",
       "    </tr>\n",
       "</table>"
      ],
      "text/plain": [
       "[(13, 15, 30), (10, 20, 15)]"
      ]
     },
     "execution_count": 15,
     "metadata": {},
     "output_type": "execute_result"
    }
   ],
   "source": [
    "%%sql\n",
    "drop table if exists triangle;\n",
    "Create table If Not Exists triangle (x int, y int, z int);\n",
    "insert into triangle (x, y, z) values ('13', '15', '30');\n",
    "insert into triangle (x, y, z) values ('10', '20', '15');\n",
    "select * from triangle;"
   ]
  },
  {
   "cell_type": "code",
   "execution_count": 16,
   "metadata": {},
   "outputs": [
    {
     "name": "stdout",
     "output_type": "stream",
     "text": [
      " * sqlite://\n",
      "Done.\n"
     ]
    },
    {
     "data": {
      "text/html": [
       "<table>\n",
       "    <tr>\n",
       "        <th>x</th>\n",
       "        <th>y</th>\n",
       "        <th>z</th>\n",
       "        <th>triangle</th>\n",
       "    </tr>\n",
       "    <tr>\n",
       "        <td>13</td>\n",
       "        <td>15</td>\n",
       "        <td>30</td>\n",
       "        <td>No</td>\n",
       "    </tr>\n",
       "    <tr>\n",
       "        <td>10</td>\n",
       "        <td>20</td>\n",
       "        <td>15</td>\n",
       "        <td>Yes</td>\n",
       "    </tr>\n",
       "</table>"
      ],
      "text/plain": [
       "[(13, 15, 30, 'No'), (10, 20, 15, 'Yes')]"
      ]
     },
     "execution_count": 16,
     "metadata": {},
     "output_type": "execute_result"
    }
   ],
   "source": [
    "%%sql \n",
    "select x,y,z,\n",
    "case when (x+y > z AND y+z > x AND x+z > y) then 'Yes' \n",
    "else 'No' end as triangle \n",
    "from triangle;"
   ]
  },
  {
   "cell_type": "code",
   "execution_count": null,
   "metadata": {},
   "outputs": [],
   "source": []
  },
  {
   "cell_type": "code",
   "execution_count": 18,
   "metadata": {},
   "outputs": [
    {
     "name": "stdout",
     "output_type": "stream",
     "text": [
      " * sqlite://\n",
      "Done.\n",
      "Done.\n",
      "Done.\n",
      "Done.\n",
      "Done.\n",
      "Done.\n",
      "1 rows affected.\n",
      "1 rows affected.\n",
      "1 rows affected.\n",
      "1 rows affected.\n",
      "1 rows affected.\n",
      "1 rows affected.\n",
      "1 rows affected.\n",
      "1 rows affected.\n",
      "1 rows affected.\n",
      "1 rows affected.\n",
      "1 rows affected.\n",
      "1 rows affected.\n",
      "1 rows affected.\n",
      "1 rows affected.\n",
      "1 rows affected.\n",
      "Done.\n"
     ]
    },
    {
     "data": {
      "text/html": [
       "<table>\n",
       "    <tr>\n",
       "        <th>customer_id</th>\n",
       "        <th>name</th>\n",
       "        <th>country</th>\n",
       "    </tr>\n",
       "    <tr>\n",
       "        <td>1</td>\n",
       "        <td>Winston</td>\n",
       "        <td>USA</td>\n",
       "    </tr>\n",
       "    <tr>\n",
       "        <td>2</td>\n",
       "        <td>Jonathan</td>\n",
       "        <td>Peru</td>\n",
       "    </tr>\n",
       "    <tr>\n",
       "        <td>3</td>\n",
       "        <td>Moustafa</td>\n",
       "        <td>Egypt</td>\n",
       "    </tr>\n",
       "</table>"
      ],
      "text/plain": [
       "[(1, 'Winston', 'USA'), (2, 'Jonathan', 'Peru'), (3, 'Moustafa', 'Egypt')]"
      ]
     },
     "execution_count": 18,
     "metadata": {},
     "output_type": "execute_result"
    }
   ],
   "source": [
    "%%sql\n",
    "drop table if exists Customers;\n",
    "drop table if exists Product;\n",
    "drop table if exists Orders;\n",
    "Create table If Not Exists Customers (customer_id int, name varchar(30), country varchar(30));\n",
    "Create table If Not Exists Product (product_id int, description varchar(30), price int);\n",
    "Create table If Not Exists Orders (order_id int, customer_id int, product_id int, order_date date, quantity int);\n",
    "insert into Customers (customer_id, name, country) values ('1', 'Winston', 'USA');\n",
    "insert into Customers (customer_id, name, country) values ('2', 'Jonathan', 'Peru');\n",
    "insert into Customers (customer_id, name, country) values ('3', 'Moustafa', 'Egypt');\n",
    "insert into Product (product_id, description, price) values ('10', 'LC Phone', '300');\n",
    "insert into Product (product_id, description, price) values ('20', 'LC T-Shirt', '10');\n",
    "insert into Product (product_id, description, price) values ('30', 'LC Book', '45');\n",
    "insert into Product (product_id, description, price) values ('40', 'LC Keychain', '2');\n",
    "insert into Orders (order_id, customer_id, product_id, order_date, quantity) values ('1', '1', '10', '2020-06-10', '1');\n",
    "insert into Orders (order_id, customer_id, product_id, order_date, quantity) values ('2', '1', '20', '2020-07-01', '1');\n",
    "insert into Orders (order_id, customer_id, product_id, order_date, quantity) values ('3', '1', '30', '2020-07-08', '2');\n",
    "insert into Orders (order_id, customer_id, product_id, order_date, quantity) values ('4', '2', '10', '2020-06-15', '2');\n",
    "insert into Orders (order_id, customer_id, product_id, order_date, quantity) values ('5', '2', '40', '2020-07-01', '10');\n",
    "insert into Orders (order_id, customer_id, product_id, order_date, quantity) values ('6', '3', '20', '2020-06-24', '2');\n",
    "insert into Orders (order_id, customer_id, product_id, order_date, quantity) values ('7', '3', '30', '2020-06-25', '2');\n",
    "insert into Orders (order_id, customer_id, product_id, order_date, quantity) values ('9', '3', '30', '2020-05-08', '3');\n",
    "select * from Customers;"
   ]
  },
  {
   "cell_type": "code",
   "execution_count": 19,
   "metadata": {},
   "outputs": [
    {
     "name": "stdout",
     "output_type": "stream",
     "text": [
      " * sqlite://\n",
      "Done.\n"
     ]
    },
    {
     "data": {
      "text/html": [
       "<table>\n",
       "    <tr>\n",
       "        <th>product_id</th>\n",
       "        <th>description</th>\n",
       "        <th>price</th>\n",
       "    </tr>\n",
       "    <tr>\n",
       "        <td>10</td>\n",
       "        <td>LC Phone</td>\n",
       "        <td>300</td>\n",
       "    </tr>\n",
       "    <tr>\n",
       "        <td>20</td>\n",
       "        <td>LC T-Shirt</td>\n",
       "        <td>10</td>\n",
       "    </tr>\n",
       "    <tr>\n",
       "        <td>30</td>\n",
       "        <td>LC Book</td>\n",
       "        <td>45</td>\n",
       "    </tr>\n",
       "    <tr>\n",
       "        <td>40</td>\n",
       "        <td>LC Keychain</td>\n",
       "        <td>2</td>\n",
       "    </tr>\n",
       "</table>"
      ],
      "text/plain": [
       "[(10, 'LC Phone', 300),\n",
       " (20, 'LC T-Shirt', 10),\n",
       " (30, 'LC Book', 45),\n",
       " (40, 'LC Keychain', 2)]"
      ]
     },
     "execution_count": 19,
     "metadata": {},
     "output_type": "execute_result"
    }
   ],
   "source": [
    "%%sql\n",
    "select * from Product;"
   ]
  },
  {
   "cell_type": "code",
   "execution_count": 20,
   "metadata": {},
   "outputs": [
    {
     "name": "stdout",
     "output_type": "stream",
     "text": [
      " * sqlite://\n",
      "Done.\n"
     ]
    },
    {
     "data": {
      "text/html": [
       "<table>\n",
       "    <tr>\n",
       "        <th>order_id</th>\n",
       "        <th>customer_id</th>\n",
       "        <th>product_id</th>\n",
       "        <th>order_date</th>\n",
       "        <th>quantity</th>\n",
       "    </tr>\n",
       "    <tr>\n",
       "        <td>1</td>\n",
       "        <td>1</td>\n",
       "        <td>10</td>\n",
       "        <td>2020-06-10</td>\n",
       "        <td>1</td>\n",
       "    </tr>\n",
       "    <tr>\n",
       "        <td>2</td>\n",
       "        <td>1</td>\n",
       "        <td>20</td>\n",
       "        <td>2020-07-01</td>\n",
       "        <td>1</td>\n",
       "    </tr>\n",
       "    <tr>\n",
       "        <td>3</td>\n",
       "        <td>1</td>\n",
       "        <td>30</td>\n",
       "        <td>2020-07-08</td>\n",
       "        <td>2</td>\n",
       "    </tr>\n",
       "    <tr>\n",
       "        <td>4</td>\n",
       "        <td>2</td>\n",
       "        <td>10</td>\n",
       "        <td>2020-06-15</td>\n",
       "        <td>2</td>\n",
       "    </tr>\n",
       "    <tr>\n",
       "        <td>5</td>\n",
       "        <td>2</td>\n",
       "        <td>40</td>\n",
       "        <td>2020-07-01</td>\n",
       "        <td>10</td>\n",
       "    </tr>\n",
       "    <tr>\n",
       "        <td>6</td>\n",
       "        <td>3</td>\n",
       "        <td>20</td>\n",
       "        <td>2020-06-24</td>\n",
       "        <td>2</td>\n",
       "    </tr>\n",
       "    <tr>\n",
       "        <td>7</td>\n",
       "        <td>3</td>\n",
       "        <td>30</td>\n",
       "        <td>2020-06-25</td>\n",
       "        <td>2</td>\n",
       "    </tr>\n",
       "    <tr>\n",
       "        <td>9</td>\n",
       "        <td>3</td>\n",
       "        <td>30</td>\n",
       "        <td>2020-05-08</td>\n",
       "        <td>3</td>\n",
       "    </tr>\n",
       "</table>"
      ],
      "text/plain": [
       "[(1, 1, 10, '2020-06-10', 1),\n",
       " (2, 1, 20, '2020-07-01', 1),\n",
       " (3, 1, 30, '2020-07-08', 2),\n",
       " (4, 2, 10, '2020-06-15', 2),\n",
       " (5, 2, 40, '2020-07-01', 10),\n",
       " (6, 3, 20, '2020-06-24', 2),\n",
       " (7, 3, 30, '2020-06-25', 2),\n",
       " (9, 3, 30, '2020-05-08', 3)]"
      ]
     },
     "execution_count": 20,
     "metadata": {},
     "output_type": "execute_result"
    }
   ],
   "source": [
    "%%sql\n",
    "select * from Orders;"
   ]
  },
  {
   "cell_type": "code",
   "execution_count": 56,
   "metadata": {},
   "outputs": [
    {
     "name": "stdout",
     "output_type": "stream",
     "text": [
      " * sqlite://\n",
      "(sqlite3.OperationalError) no such function: if\n",
      "[SQL: select customer_id, name from customers join orders using(customer_id) \n",
      "join product using(product_id) \n",
      "group by customer_id\n",
      "having sum(if(order_date between '2020-06-01' and '2020-06-30', quantity, 0)*price) >= 100 \n",
      "and sum(if(order_date between '2020-07-01' and '2020-07-31', quantity, 0)*price) >= 100]\n",
      "(Background on this error at: http://sqlalche.me/e/13/e3q8)\n"
     ]
    }
   ],
   "source": [
    "%%sql \n",
    "\n",
    "select customer_id, name\n",
    "from customers join orders using(customer_id) \n",
    "join product using(product_id) \n",
    "group by customer_id\n",
    "having \n",
    "\n",
    "\n",
    "\n",
    "\n",
    "\n",
    "sum(if(order_date between '2020-06-01' and '2020-06-30', quantity, 0)*price) >= 100 \n",
    "and sum(if(order_date between '2020-07-01' and '2020-07-31', quantity, 0)*price) >= 100"
   ]
  },
  {
   "cell_type": "code",
   "execution_count": null,
   "metadata": {},
   "outputs": [],
   "source": []
  },
  {
   "cell_type": "code",
   "execution_count": 60,
   "metadata": {},
   "outputs": [
    {
     "name": "stdout",
     "output_type": "stream",
     "text": [
      "   A  B\n",
      "0  5  7\n",
      "1  6  8\n",
      "2  7  9\n",
      "   A  B\n",
      "0  5  7\n",
      "1  6  8\n",
      "2  7  9\n"
     ]
    }
   ],
   "source": [
    "import pandas as pd\n",
    "import pandasql as ps\n",
    "\n",
    "df = pd.DataFrame({'A':[5,6,7], 'B':[7,8,9]})\n",
    "print(df)\n",
    "\n",
    "qry = \"\"\"SELECT * FROM df;\"\"\"\n",
    "df1 = ps.sqldf(qry, globals())\n",
    "print(df1)"
   ]
  },
  {
   "cell_type": "code",
   "execution_count": null,
   "metadata": {},
   "outputs": [],
   "source": []
  },
  {
   "cell_type": "code",
   "execution_count": null,
   "metadata": {},
   "outputs": [],
   "source": []
  },
  {
   "cell_type": "code",
   "execution_count": null,
   "metadata": {},
   "outputs": [],
   "source": []
  },
  {
   "cell_type": "code",
   "execution_count": null,
   "metadata": {},
   "outputs": [],
   "source": []
  },
  {
   "cell_type": "code",
   "execution_count": null,
   "metadata": {},
   "outputs": [],
   "source": []
  }
 ],
 "metadata": {
  "kernelspec": {
   "display_name": "Python 3",
   "language": "python",
   "name": "python3"
  },
  "language_info": {
   "codemirror_mode": {
    "name": "ipython",
    "version": 3
   },
   "file_extension": ".py",
   "mimetype": "text/x-python",
   "name": "python",
   "nbconvert_exporter": "python",
   "pygments_lexer": "ipython3",
   "version": "3.7.4"
  },
  "varInspector": {
   "cols": {
    "lenName": 16,
    "lenType": 16,
    "lenVar": 40
   },
   "kernels_config": {
    "python": {
     "delete_cmd_postfix": "",
     "delete_cmd_prefix": "del ",
     "library": "var_list.py",
     "varRefreshCmd": "print(var_dic_list())"
    },
    "r": {
     "delete_cmd_postfix": ") ",
     "delete_cmd_prefix": "rm(",
     "library": "var_list.r",
     "varRefreshCmd": "cat(var_dic_list()) "
    }
   },
   "types_to_exclude": [
    "module",
    "function",
    "builtin_function_or_method",
    "instance",
    "_Feature"
   ],
   "window_display": false
  }
 },
 "nbformat": 4,
 "nbformat_minor": 4
}
