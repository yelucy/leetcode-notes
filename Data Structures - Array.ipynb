{
 "cells": [
  {
   "cell_type": "markdown",
   "metadata": {},
   "source": [
    "Problem Hardness Tags:     \n",
    "<code style=\"background:lightskyblue;color:black\">EASY</code> \n",
    "\n",
    "<code style=\"background:sandybrown;color:black\">MEDIUM</code>   \n",
    "\n",
    "<code style=\"background:lightcoral;color:black\">HARD</code>\n"
   ]
  },
  {
   "cell_type": "markdown",
   "metadata": {},
   "source": [
    "# Arrays"
   ]
  },
  {
   "cell_type": "markdown",
   "metadata": {},
   "source": [
    "### 1. Two Sum  <code style=\"background:lightskyblue;color:black\">EASY</code> \n",
    "\n",
    "**Question**: Given an array of integers nums and an integer target, return indices of the two numbers such that they add up to target.   \n",
    "You may assume that each input would have exactly one solution, and you may not use the same element twice.   \n",
    "You can return the answer in any order.   \n",
    "   \n",
    "**Input**: nums = [2,7,11,15], target = 9   \n",
    "**Output**: [0,1]    "
   ]
  },
  {
   "cell_type": "code",
   "execution_count": 23,
   "metadata": {},
   "outputs": [],
   "source": [
    "class Solution:\n",
    "    def twoSum(self, nums, target):\n",
    "        seen = {} # start with empty hash table \n",
    "        \n",
    "        for i,num in enumerate(nums): # enumerate returns the numbers in array as key, then their indices as values\n",
    "            if target - num in seen: # if target value - num is in hash table\n",
    "                return [seen[target - num], i] # return their respective indices of the target-num and i \n",
    "            seen[num] = i # if not, then put the value in the hash table "
   ]
  },
  {
   "cell_type": "code",
   "execution_count": 25,
   "metadata": {},
   "outputs": [
    {
     "data": {
      "text/plain": [
       "[0, 1]"
      ]
     },
     "execution_count": 25,
     "metadata": {},
     "output_type": "execute_result"
    }
   ],
   "source": [
    "nums = [2,7,11,15]\n",
    "target = 9\n",
    "Solution().twoSum(nums, target)"
   ]
  },
  {
   "cell_type": "markdown",
   "metadata": {},
   "source": [
    "### 53. Maximum Subarray <code style=\"background:lightskyblue;color:black\">EASY</code> \n",
    "   \n",
    "**Question**: Given an integer array nums, find the contiguous subarray (containing at least one number) which has the largest sum and return its sum.     \n",
    "\n",
    "**Input**: nums = [-2,1,-3,4,-1,2,1,-5,4]   \n",
    "**Output**: 6   \n",
    "**Explanation**: [4,-1,2,1] has the largest sum = 6.   \n",
    "   \n",
    "There are two standard DP approaches suitable for arrays:   \n",
    "- Constant space one. Move along the array and modify the array itself.   \n",
    "- Linear space one. First move in the direction left->right, then in the direction right->left. Combine the results.\n",
    "  "
   ]
  },
  {
   "cell_type": "code",
   "execution_count": 7,
   "metadata": {},
   "outputs": [],
   "source": [
    "# Example: nums = [-2,1,-3,4,-1,2,1,-5,4]\n",
    "class Solution:\n",
    "    def maxSubArray(self, nums):\n",
    "        n = len(nums) # n = 9 \n",
    "        max_sum = nums[0] # set first value -2 to max_sum \n",
    "        for i in range(1, n): \n",
    "            if nums[i-1] > 0: # if prev. term is greater than 0\n",
    "                nums[i] += nums[i-1] # nums[i] updated with nums[i-1] + current nums[i] \n",
    "            max_sum = max(nums[i], max_sum) # update max_sum \n",
    "            \n",
    "        return max_sum "
   ]
  },
  {
   "cell_type": "code",
   "execution_count": 8,
   "metadata": {},
   "outputs": [],
   "source": [
    "nums = [-2,1,-3,4,-1,2,1,-5,4]"
   ]
  },
  {
   "cell_type": "code",
   "execution_count": 9,
   "metadata": {},
   "outputs": [
    {
     "data": {
      "text/plain": [
       "6"
      ]
     },
     "execution_count": 9,
     "metadata": {},
     "output_type": "execute_result"
    }
   ],
   "source": [
    "Solution().maxSubArray(nums)"
   ]
  },
  {
   "cell_type": "markdown",
   "metadata": {},
   "source": [
    "### 121. Best Time to Buy and Sell Stock <code style=\"background:lightskyblue;color:black\">EASY</code> \n",
    "   \n",
    "**Question**: You are given an array prices where prices[i] is the price of a given stock on the ith day.   \n",
    "You want to maximize your profit by choosing a single day to buy one stock and choosing a different day in the future to sell that stock.   \n",
    "Return the maximum profit you can achieve from this transaction. If you cannot achieve any profit, return 0.   "
   ]
  },
  {
   "cell_type": "code",
   "execution_count": 26,
   "metadata": {},
   "outputs": [],
   "source": [
    "class Solution:\n",
    "    def maxProfit(self, prices):\n",
    "        max_price, min_price = 0, float('inf') # 0 as max_price, inf as min_price \n",
    "        for i in prices: \n",
    "            min_price = min(min_price, i) # min(inf, current value at ith place)\n",
    "            profit = i - min_price \n",
    "            max_price = max(max_price, profit)\n",
    "        return max_price "
   ]
  },
  {
   "cell_type": "markdown",
   "metadata": {},
   "source": [
    "- for 1st value in prices array, [7,1,5,3,6,4]   \n",
    "min_price = min(inf, 7) => 7   \n",
    "profit = 7-7 => 0   \n",
    "max_price = max(0, 0) => 0   \n",
    "    \n",
    "- for 2nd value:   \n",
    "min_price = min(7, 1)   \n",
    "profit = 1 - 7 => -6   \n",
    "max_price = max(0, -6) => 0   "
   ]
  },
  {
   "cell_type": "markdown",
   "metadata": {},
   "source": [
    "**Time Complexity**: O(n). only a single pass is needed.    \n",
    "**Space Complexity**: O(1). only two variables are used. "
   ]
  },
  {
   "cell_type": "code",
   "execution_count": 27,
   "metadata": {},
   "outputs": [
    {
     "data": {
      "text/plain": [
       "5"
      ]
     },
     "execution_count": 27,
     "metadata": {},
     "output_type": "execute_result"
    }
   ],
   "source": [
    "prices = [7,1,5,3,6,4] \n",
    "s = Solution()\n",
    "s.maxProfit(prices)"
   ]
  },
  {
   "cell_type": "code",
   "execution_count": 28,
   "metadata": {},
   "outputs": [
    {
     "data": {
      "text/plain": [
       "5"
      ]
     },
     "execution_count": 28,
     "metadata": {},
     "output_type": "execute_result"
    }
   ],
   "source": [
    "Solution().maxProfit(prices)"
   ]
  },
  {
   "cell_type": "markdown",
   "metadata": {},
   "source": [
    "### 283. Move Zeroes <code style=\"background:lightskyblue;color:black\">EASY</code> \n",
    "\n",
    "**Question**: Given an array nums, write a function to move all 0's to the end of it while maintaining the relative order of the non-zero elements.   \n",
    "\n",
    "**Input**: [0,1,0,3,12]   \n",
    "**Output**: [1,3,12,0,0]   "
   ]
  },
  {
   "cell_type": "code",
   "execution_count": 24,
   "metadata": {},
   "outputs": [],
   "source": [
    "class Solution:\n",
    "    def moveZeroes(self, nums):\n",
    "        \"\"\"\n",
    "        Do not return anything, modify nums in-place instead.\n",
    "        \"\"\"\n",
    "        zero = 0 # records the location of the right-most 0\n",
    "        for i in range(len(nums)):\n",
    "            if nums[i] != 0: # if i != 0, switch their respective values \n",
    "                nums[i], nums[zero] = nums[zero], nums[i] \n",
    "                zero += 1 # updates 0's location that it has switched to "
   ]
  },
  {
   "cell_type": "code",
   "execution_count": 25,
   "metadata": {},
   "outputs": [
    {
     "data": {
      "text/plain": [
       "[1, 3, 12, 0, 0]"
      ]
     },
     "execution_count": 25,
     "metadata": {},
     "output_type": "execute_result"
    }
   ],
   "source": [
    "nums = [0,1,0,3,12]\n",
    "Solution().moveZeroes(nums)\n",
    "nums"
   ]
  },
  {
   "cell_type": "markdown",
   "metadata": {},
   "source": [
    "### 509. Fibonacci Number  <code style=\"background:lightskyblue;color:black\">EASY</code> \n",
    "\n",
    "In computing, memoization or memoisation is an optimization technique used primarily to speed up computer programs by storing the results of expensive function calls and returning the cached result when the same inputs occur again.\n",
    "\n",
    "**Question**:     \n",
    "The Fibonacci numbers, commonly denoted F(n) form a sequence, called the Fibonacci sequence, such that each number is the sum of the two preceding ones, starting from 0 and 1. That is,\n",
    "```\n",
    "F(0) = 0, F(1) = 1\n",
    "F(n) = F(n - 1) + F(n - 2), for n > 1.\n",
    "```\n",
    "\n",
    "Given n, calculate F(n).   \n",
    "\n"
   ]
  },
  {
   "cell_type": "code",
   "execution_count": 1,
   "metadata": {},
   "outputs": [],
   "source": [
    "class Solution:\n",
    "    def fib(self, n):\n",
    "        if n <= 1:  # if n is <= 1, then just return n \n",
    "            return n \n",
    "        return self.memoize(n) \n",
    "    \n",
    "    def memoize(self, n):\n",
    "        cache = {0: 0, 1: 1} # starting a cache \n",
    "        \n",
    "        for i in range(2, n+1): # iterate thru 2 to n (use n+1 so that range() includes n) \n",
    "            cache[i] = cache[i-1] + cache[i-2] # store each computed answer as a new key value pair\n",
    "            # use this to reference previous 2 numbers to calculate the current number \n",
    "            \n",
    "        return cache[n] # when we reach last number, return Fibonacci number "
   ]
  },
  {
   "cell_type": "markdown",
   "metadata": {},
   "source": [
    "**Time complexity**: O(n). each number starting at 2 up to n is visited, computed, then stored for O(1) access later on.       \n",
    "**Space complexity**: O(n). Size of data structure is proportionate to n. "
   ]
  },
  {
   "cell_type": "code",
   "execution_count": 5,
   "metadata": {},
   "outputs": [
    {
     "data": {
      "text/plain": [
       "55"
      ]
     },
     "execution_count": 5,
     "metadata": {},
     "output_type": "execute_result"
    }
   ],
   "source": [
    "Solution().fib(n=10)"
   ]
  },
  {
   "cell_type": "code",
   "execution_count": 10,
   "metadata": {},
   "outputs": [],
   "source": [
    "# Bottom-Up Approach \n",
    "class Solution:\n",
    "    def fib_bottom_up(self, n):\n",
    "        if n == 1 or n == 2:\n",
    "            return 1 \n",
    "        bottom_up = [None]*(n+1) \n",
    "        bottom_up[1] = 1 \n",
    "        bottom_up[2] = 1 \n",
    "        \n",
    "        for i in range(3, n+1):\n",
    "            bottom_up[i] = bottom_up[i-1] + bottom_up[i-2] \n",
    "        return bottom_up[n]"
   ]
  },
  {
   "cell_type": "code",
   "execution_count": 11,
   "metadata": {},
   "outputs": [
    {
     "data": {
      "text/plain": [
       "55"
      ]
     },
     "execution_count": 11,
     "metadata": {},
     "output_type": "execute_result"
    }
   ],
   "source": [
    "Solution().fib_bottom_up(n=10)"
   ]
  },
  {
   "cell_type": "markdown",
   "metadata": {},
   "source": []
  },
  {
   "cell_type": "code",
   "execution_count": null,
   "metadata": {},
   "outputs": [],
   "source": []
  },
  {
   "cell_type": "code",
   "execution_count": null,
   "metadata": {},
   "outputs": [],
   "source": []
  },
  {
   "cell_type": "code",
   "execution_count": null,
   "metadata": {},
   "outputs": [],
   "source": []
  },
  {
   "cell_type": "code",
   "execution_count": null,
   "metadata": {},
   "outputs": [],
   "source": []
  },
  {
   "cell_type": "code",
   "execution_count": null,
   "metadata": {},
   "outputs": [],
   "source": []
  },
  {
   "cell_type": "code",
   "execution_count": null,
   "metadata": {},
   "outputs": [],
   "source": []
  },
  {
   "cell_type": "code",
   "execution_count": null,
   "metadata": {},
   "outputs": [],
   "source": []
  }
 ],
 "metadata": {
  "kernelspec": {
   "display_name": "Python 3",
   "language": "python",
   "name": "python3"
  },
  "language_info": {
   "codemirror_mode": {
    "name": "ipython",
    "version": 3
   },
   "file_extension": ".py",
   "mimetype": "text/x-python",
   "name": "python",
   "nbconvert_exporter": "python",
   "pygments_lexer": "ipython3",
   "version": "3.7.4"
  },
  "varInspector": {
   "cols": {
    "lenName": 16,
    "lenType": 16,
    "lenVar": 40
   },
   "kernels_config": {
    "python": {
     "delete_cmd_postfix": "",
     "delete_cmd_prefix": "del ",
     "library": "var_list.py",
     "varRefreshCmd": "print(var_dic_list())"
    },
    "r": {
     "delete_cmd_postfix": ") ",
     "delete_cmd_prefix": "rm(",
     "library": "var_list.r",
     "varRefreshCmd": "cat(var_dic_list()) "
    }
   },
   "types_to_exclude": [
    "module",
    "function",
    "builtin_function_or_method",
    "instance",
    "_Feature"
   ],
   "window_display": false
  }
 },
 "nbformat": 4,
 "nbformat_minor": 4
}
