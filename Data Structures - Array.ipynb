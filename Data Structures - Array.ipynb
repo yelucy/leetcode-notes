{
 "cells": [
  {
   "cell_type": "markdown",
   "metadata": {},
   "source": [
    "# Arrays"
   ]
  },
  {
   "cell_type": "markdown",
   "metadata": {},
   "source": [
    "#### 1. Two Sum\n",
    "\n",
    "Given an array of integers nums and an integer target, return indices of the two numbers such that they add up to target.   \n",
    "You may assume that each input would have exactly one solution, and you may not use the same element twice.   \n",
    "You can return the answer in any order.   \n",
    "   \n",
    "**Input**: nums = [2,7,11,15], target = 9   \n",
    "**Output**: [0,1]    "
   ]
  },
  {
   "cell_type": "code",
   "execution_count": 23,
   "metadata": {},
   "outputs": [],
   "source": [
    "class Solution:\n",
    "    def twoSum(self, nums, target):\n",
    "        seen = {} # start with empty hash table \n",
    "        \n",
    "        for i,num in enumerate(nums): # enumerate returns the numbers in array as key, then their indices as values\n",
    "            if target - num in seen: # if target value - num is in hash table\n",
    "                return [seen[target - num], i] # return their respective indices of the target-num and i \n",
    "            seen[num] = i # if not, then put the value in the hash table "
   ]
  },
  {
   "cell_type": "code",
   "execution_count": 25,
   "metadata": {},
   "outputs": [
    {
     "data": {
      "text/plain": [
       "[0, 1]"
      ]
     },
     "execution_count": 25,
     "metadata": {},
     "output_type": "execute_result"
    }
   ],
   "source": [
    "nums = [2,7,11,15]\n",
    "target = 9\n",
    "Solution().twoSum(nums, target)"
   ]
  },
  {
   "cell_type": "markdown",
   "metadata": {},
   "source": [
    "#### 121. Best Time to Buy and Sell Stock\n",
    "You are given an array prices where prices[i] is the price of a given stock on the ith day.   \n",
    "You want to maximize your profit by choosing a single day to buy one stock and choosing a different day in the future to sell that stock.   \n",
    "Return the maximum profit you can achieve from this transaction. If you cannot achieve any profit, return 0.   "
   ]
  },
  {
   "cell_type": "code",
   "execution_count": 26,
   "metadata": {},
   "outputs": [],
   "source": [
    "class Solution:\n",
    "    def maxProfit(self, prices):\n",
    "        max_price, min_price = 0, float('inf') # 0 as max_price, inf as min_price \n",
    "        for i in prices: \n",
    "            min_price = min(min_price, i) # min(inf, current value at ith place)\n",
    "            profit = i - min_price \n",
    "            max_price = max(max_price, profit)\n",
    "        return max_price "
   ]
  },
  {
   "cell_type": "markdown",
   "metadata": {},
   "source": [
    "- for 1st value in prices array, [7,1,5,3,6,4]   \n",
    "min_price = min(inf, 7) => 7   \n",
    "profit = 7-7 => 0   \n",
    "max_price = max(0, 0) => 0   \n",
    "    \n",
    "- for 2nd value:   \n",
    "min_price = min(7, 1)   \n",
    "profit = 1 - 7 => -6   \n",
    "max_price = max(0, -6) => 0   "
   ]
  },
  {
   "cell_type": "code",
   "execution_count": 27,
   "metadata": {},
   "outputs": [
    {
     "data": {
      "text/plain": [
       "5"
      ]
     },
     "execution_count": 27,
     "metadata": {},
     "output_type": "execute_result"
    }
   ],
   "source": [
    "prices = [7,1,5,3,6,4] \n",
    "s = Solution()\n",
    "s.maxProfit(prices)"
   ]
  },
  {
   "cell_type": "code",
   "execution_count": 28,
   "metadata": {},
   "outputs": [
    {
     "data": {
      "text/plain": [
       "5"
      ]
     },
     "execution_count": 28,
     "metadata": {},
     "output_type": "execute_result"
    }
   ],
   "source": [
    "Solution().maxProfit(prices)"
   ]
  },
  {
   "cell_type": "code",
   "execution_count": null,
   "metadata": {},
   "outputs": [],
   "source": []
  },
  {
   "cell_type": "code",
   "execution_count": null,
   "metadata": {},
   "outputs": [],
   "source": []
  },
  {
   "cell_type": "code",
   "execution_count": null,
   "metadata": {},
   "outputs": [],
   "source": []
  },
  {
   "cell_type": "code",
   "execution_count": null,
   "metadata": {},
   "outputs": [],
   "source": []
  }
 ],
 "metadata": {
  "kernelspec": {
   "display_name": "Python 3",
   "language": "python",
   "name": "python3"
  },
  "language_info": {
   "codemirror_mode": {
    "name": "ipython",
    "version": 3
   },
   "file_extension": ".py",
   "mimetype": "text/x-python",
   "name": "python",
   "nbconvert_exporter": "python",
   "pygments_lexer": "ipython3",
   "version": "3.7.4"
  }
 },
 "nbformat": 4,
 "nbformat_minor": 4
}
